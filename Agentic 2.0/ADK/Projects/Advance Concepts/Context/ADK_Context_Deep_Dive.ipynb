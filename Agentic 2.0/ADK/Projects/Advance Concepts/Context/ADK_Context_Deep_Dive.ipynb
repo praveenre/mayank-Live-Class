{
 "cells": [
  {
   "cell_type": "markdown",
   "metadata": {},
   "source": [
    "# ADK Context Deep Dive\n",
    "\n",
    "A practical, **course-ready** deep dive on how context works in the Agent Development Kit (ADK). \n",
    "Use this notebook as your teaching script and as reference material for learners.\n",
    "\n",
    "**You’ll learn:**\n",
    "- What *context* means in ADK and why it matters\n",
    "- The four context objects (InvocationContext, ReadonlyContext, CallbackContext, ToolContext)\n",
    "- How context flows through an invocation\n",
    "- How to read/write session state, work with artifacts, request auth, and use memory via context\n",
    "- Best practices, tables, and quick-reference checklists\n"
   ]
  },
  {
   "cell_type": "markdown",
   "metadata": {},
   "source": [
    "## Table of Contents\n",
    "1. [What is Context?](#what-is-context)\n",
    "2. [Why Context Matters](#why-context-matters)\n",
    "3. [Context Flow (High-Level Diagram)](#context-flow)\n",
    "4. [Types of Context](#types-of-context)\n",
    "   - [InvocationContext](#invocationcontext)\n",
    "   - [ReadonlyContext](#readonlycontext)\n",
    "   - [CallbackContext](#callbackcontext)\n",
    "   - [ToolContext](#toolcontext)\n",
    "5. [Common Tasks Using Context](#common-tasks)\n",
    "   - [Accessing Information](#accessing-information)\n",
    "   - [Managing State](#managing-state)\n",
    "   - [Working with Artifacts](#working-with-artifacts)\n",
    "   - [Handling Tool Authentication](#handling-tool-authentication)\n",
    "   - [Leveraging Memory](#leveraging-memory)\n",
    "6. [Advanced: Direct InvocationContext Usage](#advanced-invocation)\n",
    "7. [Best Practices & Quick Reference](#best-practices)\n"
   ]
  },
  {
   "cell_type": "markdown",
   "metadata": {
    "id": "what-is-context"
   },
   "source": [
    "## What is Context?\n",
    "<a id='what-is-context'></a>\n",
    "\n",
    "In ADK, **context** is the bundle of information your agent and tools receive during an interaction (an *invocation*).\n",
    "It includes the **session**, **state**, **artifacts**, **services**, and identifiers (like **invocation_id**) needed to make informed decisions.\n",
    "\n",
    "Think of context as the execution envelope for a single user-request-to-final-response cycle.\n"
   ]
  },
  {
   "cell_type": "markdown",
   "metadata": {
    "id": "why-context-matters"
   },
   "source": [
    "## Why Context Matters\n",
    "<a id='why-context-matters'></a>\n",
    "\n",
    "- **Maintains continuity**: remembers preferences and progress via *session.state*.\n",
    "- **Shares data across steps**: tools/agents read & write state to cooperate.\n",
    "- **Grants capabilities**: artifact storage, memory search, auth flows, etc.\n",
    "- **Aids observability**: context carries IDs for logging & debugging.\n"
   ]
  },
  {
   "cell_type": "markdown",
   "metadata": {
    "id": "context-flow"
   },
   "source": [
    "## Context Flow (High-Level Diagram)\n",
    "<a id='context-flow'></a>\n",
    "\n",
    "```mermaid\n",
    "flowchart LR\n",
    "  U[User Input] --> R[(Runner)]\n",
    "  R -->|Create| C[InvocationContext]\n",
    "  C --> A[Agent]\n",
    "  A -->|before_agent/LLM| CB[CallbackContext]\n",
    "  A -->|LLM calls Tool| T[Tool]\n",
    "  T -->|ToolContext| TC[State/Artifacts/Auth/Memory]\n",
    "  A -->|after_agent/LLM| CB2[CallbackContext]\n",
    "  CB2 --> S[(SessionService)]\n",
    "  TC --> S\n",
    "  S --> H[Session History & State]\n",
    "  A --> R\n",
    "  R --> U2[Final Response]\n",
    "```\n",
    "\n",
    "**Idea:** The Runner creates an **InvocationContext** for each invocation. \n",
    "Callbacks see a **CallbackContext**, tools see a **ToolContext** (which extends CallbackContext), and instruction providers use **ReadonlyContext**.\n"
   ]
  },
  {
   "cell_type": "markdown",
   "metadata": {
    "id": "types-of-context"
   },
   "source": [
    "## Types of Context\n",
    "<a id='types-of-context'></a>\n",
    "\n",
    "| Context | Where You See It | Can Read State | Can Write State | Artifacts | Auth | Memory | Notes |\n",
    "|---|---|---:|---:|---:|---:|---:|---|\n",
    "| **InvocationContext** | Inside agent core (`_run_async_impl`) | ✅ | ⚠️*rare* | via `ctx` services | — | — | Full control for advanced flows |\n",
    "| **ReadonlyContext** | Instruction providers | ✅ | ❌ | ❌ | ❌ | ❌ | Safe read-only access (no mutations) |\n",
    "| **CallbackContext** | Agent/model callbacks | ✅ | ✅ | `save_artifact`, `load_artifact` | ❌ | ❌ | Preferred place to mutate state in callbacks |\n",
    "| **ToolContext** | Tool functions/tool callbacks | ✅ | ✅ | `save/load/list` | `request_credential`/`get_auth_response` | `search_memory` | Adds auth, memory, listing, and `function_call_id` |\n"
   ]
  },
  {
   "cell_type": "markdown",
   "metadata": {
    "id": "invocationcontext"
   },
   "source": [
    "### InvocationContext\n",
    "<a id='invocationcontext'></a>\n",
    "\n",
    "**Use when:** writing a custom agent or controlling the invocation lifecycle.\n",
    "\n",
    "**You typically get:**\n",
    "- `session` (state + history)\n",
    "- `invocation_id`, `agent` (current agent)\n",
    "- services like `session_service`, `artifact_service`, optionally `memory_service`\n",
    "- flags like `end_invocation`\n",
    "\n",
    "```python\n",
    "# Pseudocode: custom agent using InvocationContext\n",
    "from google.adk.agents import BaseAgent\n",
    "from google.adk.agents.invocation_context import InvocationContext\n",
    "from google.adk.events import Event\n",
    "from typing import AsyncGenerator\n",
    "\n",
    "class ControllerAgent(BaseAgent):\n",
    "    async def _run_async_impl(self, ctx: InvocationContext) -> AsyncGenerator[Event, None]:\n",
    "        if ctx.session.state.get(\"critical_error\"):\n",
    "            ctx.end_invocation = True\n",
    "            yield Event(author=self.name, content=None)  # signal stop\n",
    "            return\n",
    "        # normal work ...\n",
    "        yield Event(author=self.name, content=None)\n",
    "```\n"
   ]
  },
  {
   "cell_type": "markdown",
   "metadata": {
    "id": "readonlycontext"
   },
   "source": [
    "### ReadonlyContext\n",
    "<a id='readonlycontext'></a>\n",
    "\n",
    "**Use when:** providing dynamic instructions safely without mutating state.\n",
    "\n",
    "```python\n",
    "from google.adk.agents import LlmAgent\n",
    "from google.adk.agents.readonly_context import ReadonlyContext\n",
    "\n",
    "def instruction_provider(ctx: ReadonlyContext) -> str:\n",
    "    tier = ctx.state().get(\"user:tier\", \"standard\")\n",
    "    return f\"Answer succinctly for a {tier} user.\"\n",
    "\n",
    "agent = LlmAgent(\n",
    "    name=\"dynamic_instructions\",\n",
    "    model=\"gemini-2.0-flash\",\n",
    "    instruction=instruction_provider,\n",
    ")\n",
    "```\n"
   ]
  },
  {
   "cell_type": "markdown",
   "metadata": {
    "id": "callbackcontext"
   },
   "source": [
    "### CallbackContext\n",
    "<a id='callbackcontext'></a>\n",
    "\n",
    "**Use when:** reading/writing state or artifacts inside callbacks (before/after agent or model).\n",
    "\n",
    "```python\n",
    "from google.adk.agents.callback_context import CallbackContext\n",
    "from google.adk.models import LlmRequest\n",
    "from typing import Optional\n",
    "\n",
    "def before_model_cb(ctx: CallbackContext, req: LlmRequest) -> Optional[None]:\n",
    "    calls = ctx.state.get(\"model_calls\", 0)\n",
    "    ctx.state[\"model_calls\"] = calls + 1  # tracked and persisted\n",
    "    return None  # proceed with model call\n",
    "```\n"
   ]
  },
  {
   "cell_type": "markdown",
   "metadata": {
    "id": "toolcontext"
   },
   "source": [
    "### ToolContext\n",
    "<a id='toolcontext'></a>\n",
    "\n",
    "**Use when:** implementing a tool. Adds auth, memory search, and artifact listing on top of CallbackContext.\n",
    "\n",
    "```python\n",
    "from google.adk.tools.tool_context import ToolContext\n",
    "\n",
    "def fetch_orders(user_id: str, tool_context: ToolContext) -> dict:\n",
    "    # Read from state\n",
    "    preferred_region = tool_context.state.get(\"user:region\", \"us-east\")\n",
    "    # Optionally search memory\n",
    "    # mem = tool_context.search_memory(f\"recent orders for {user_id}\")\n",
    "    return {\"region\": preferred_region, \"orders\": [\"o-1\", \"o-2\"]}\n",
    "```\n"
   ]
  },
  {
   "cell_type": "markdown",
   "metadata": {
    "id": "common-tasks"
   },
   "source": [
    "## Common Tasks Using Context\n",
    "<a id='common-tasks'></a>\n",
    "Below are core operations you’ll perform with context.\n"
   ]
  },
  {
   "cell_type": "markdown",
   "metadata": {
    "id": "accessing-information"
   },
   "source": [
    "### Accessing Information\n",
    "<a id='accessing-information'></a>\n",
    "\n",
    "```python\n",
    "# In a Tool\n",
    "from google.adk.tools.tool_context import ToolContext\n",
    "\n",
    "def show_ids(tool_context: ToolContext) -> dict:\n",
    "    return {\n",
    "        \"agent\": tool_context.agent_name,\n",
    "        \"invocation_id\": tool_context.invocation_id,\n",
    "        \"has_function_call_id\": bool(getattr(tool_context, \"function_call_id\", None)),\n",
    "    }\n",
    "```\n"
   ]
  },
  {
   "cell_type": "markdown",
   "metadata": {
    "id": "managing-state"
   },
   "source": [
    "### Managing State\n",
    "<a id='managing-state'></a>\n",
    "\n",
    "Use **CallbackContext.state**/**ToolContext.state** for tracked updates. These changes are recorded as `EventActions.state_delta`.\n",
    "\n",
    "```python\n",
    "from google.adk.tools.tool_context import ToolContext\n",
    "\n",
    "def set_user_pref(tool_context: ToolContext, key: str, value: str) -> dict:\n",
    "    tool_context.state[f\"user:{key}\"] = value  # persists with persistent session service\n",
    "    return {\"ok\": True}\n",
    "```\n"
   ]
  },
  {
   "cell_type": "markdown",
   "metadata": {
    "id": "working-with-artifacts"
   },
   "source": [
    "### Working with Artifacts\n",
    "<a id='working-with-artifacts'></a>\n",
    "\n",
    "Artifacts are saved/loaded via context—perfect for files or binary data.\n",
    "\n",
    "```python\n",
    "import google.genai.types as types\n",
    "from google.adk.agents.callback_context import CallbackContext\n",
    "\n",
    "async def save_report(ctx: CallbackContext, data: bytes) -> int:\n",
    "    part = types.Part.from_bytes(data=data, mime_type=\"application/pdf\")\n",
    "    version = await ctx.save_artifact(\"report.pdf\", part)\n",
    "    return version\n",
    "```\n"
   ]
  },
  {
   "cell_type": "markdown",
   "metadata": {
    "id": "handling-tool-authentication"
   },
   "source": [
    "### Handling Tool Authentication\n",
    "<a id='handling-tool-authentication'></a>\n",
    "\n",
    "Use **ToolContext.request_credential(...)** to start auth flows and **get_auth_response(...)** to retrieve credentials.\n",
    "\n",
    "```python\n",
    "from google.adk.tools.tool_context import ToolContext\n",
    "# from google.adk.auth import AuthConfig  # example placeholder\n",
    "\n",
    "def call_secure_api(tool_context: ToolContext) -> dict:\n",
    "    token = tool_context.state.get(\"user:my_api_token\")\n",
    "    if not token:\n",
    "        # auth_config = AuthConfig(...)\n",
    "        # tool_context.request_credential(auth_config)\n",
    "        return {\"status\": \"auth_required\"}\n",
    "    return {\"status\": \"ok\", \"preview\": \"fetched data\"}\n",
    "```\n"
   ]
  },
  {
   "cell_type": "markdown",
   "metadata": {
    "id": "leveraging-memory"
   },
   "source": [
    "### Leveraging Memory\n",
    "<a id='leveraging-memory'></a>\n",
    "\n",
    "If a `memory_service` is configured, tools can search it via **ToolContext.search_memory(...)**.\n",
    "\n",
    "```python\n",
    "from google.adk.tools.tool_context import ToolContext\n",
    "\n",
    "def find_related(tool_context: ToolContext, topic: str) -> dict:\n",
    "    # results = tool_context.search_memory(f\"about {topic}\")\n",
    "    # return {\"found\": len(results.results) if results else 0}\n",
    "    return {\"info\": \"memory search example (configure service to enable)\"}\n",
    "```\n"
   ]
  },
  {
   "cell_type": "markdown",
   "metadata": {
    "id": "advanced-invocation"
   },
   "source": [
    "## Advanced: Direct InvocationContext Usage\n",
    "<a id='advanced-invocation'></a>\n",
    "\n",
    "Occasionally you’ll use **InvocationContext** directly in a custom agent to control the run (e.g., early termination, branching). Prefer callbacks/tools for most state and artifact work.\n",
    "\n",
    "```python\n",
    "from google.adk.agents import BaseAgent\n",
    "from google.adk.agents.invocation_context import InvocationContext\n",
    "from google.adk.events import Event\n",
    "from typing import AsyncGenerator\n",
    "\n",
    "class StopOnFlagAgent(BaseAgent):\n",
    "    async def _run_async_impl(self, ctx: InvocationContext) -> AsyncGenerator[Event, None]:\n",
    "        if ctx.session.state.get(\"temp:stop\"):\n",
    "            ctx.end_invocation = True\n",
    "            yield Event(author=self.name)\n",
    "            return\n",
    "        yield Event(author=self.name)\n",
    "```\n"
   ]
  },
  {
   "cell_type": "markdown",
   "metadata": {
    "id": "best-practices"
   },
   "source": [
    "## Best Practices & Quick Reference\n",
    "<a id='best-practices'></a>\n",
    "\n",
    "### Design Principles\n",
    "- **Use the narrowest context**: ToolContext for tools, CallbackContext for callbacks.\n",
    "- **State flow via context**: prefer `ctx.state[...] = ...` in callbacks/tools rather than editing sessions directly.\n",
    "- **Artifacts for binary data**: `save_artifact` / `load_artifact` in context, not in state.\n",
    "- **Auth via ToolContext**: request & retrieve credentials in the tool that needs them.\n",
    "- **Memory is optional**: check availability before calling.\n",
    "\n",
    "### Quick Cheatsheet\n",
    "\n",
    "| Need | Use |\n",
    "|---|---|\n",
    "| Read user/app flags | `ctx.state.get(...)` |\n",
    "| Persist a file | `ctx.save_artifact(filename, part)` |\n",
    "| Load last file version | `ctx.load_artifact(filename)` |\n",
    "| Ask for credentials | `tool_context.request_credential(...)` |\n",
    "| Search memory | `tool_context.search_memory(query)` |\n",
    "| End the whole turn early | `invocation_ctx.end_invocation = True` |\n",
    "\n",
    "```mermaid\n",
    "flowchart TD\n",
    "  A[CallbackContext.state write] --> D[EventActions.state_delta]\n",
    "  T[ToolContext.save_artifact] --> AD[EventActions.artifact_delta]\n",
    "  D --> S[(SessionService applies deltas)]\n",
    "  AD --> S\n",
    "  S --> H[Session.state & Artifacts Updated]\n",
    "```\n"
   ]
  }
 ],
 "metadata": {
  "kernelspec": {
   "display_name": "Python 3",
   "language": "python",
   "name": "python3"
  },
  "language_info": {
   "name": "python",
   "version": "3.10"
  }
 },
 "nbformat": 4,
 "nbformat_minor": 5
}
