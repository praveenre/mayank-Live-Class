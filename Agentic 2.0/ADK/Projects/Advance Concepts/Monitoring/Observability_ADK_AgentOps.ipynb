{
 "cells": [
  {
   "cell_type": "markdown",
   "metadata": {},
   "source": [
    "# Observability in Agentic AI with ADK & AgentOps\n",
    "\n",
    "This notebook is a crisp, practical deep dive:\n",
    "1) Observability in **agentic AI** (concepts & goals)\n",
    "2) Observability **in ADK** (what the toolkit emits and how to capture it)\n",
    "3) **AgentOps** integration for session replays, traces, metrics\n",
    "\n",
    "> You can run code cells as snippets in your own project. They are designed to be copy‑paste friendly.\n"
   ]
  },
  {
   "cell_type": "markdown",
   "metadata": {},
   "source": [
    "## Table of contents\n",
    "- [1. Why Observability for Agentic AI?](#why)\n",
    "- [2. Core Signals & Telemetry in Agent Systems](#signals)\n",
    "- [3. ADK Observability: Logging & Tracing](#adk-obs)\n",
    "  - [3.1 Logging (Python `logging`, CLI flags)](#adk-logging)\n",
    "  - [3.2 Event stream mental model](#adk-events)\n",
    "- [4. AgentOps: Replays, Traces, & Metrics](#agentops)\n",
    "  - [4.1 What AgentOps adds on top of ADK](#agentops-why)\n",
    "  - [4.2 Minimal integration](#agentops-min)\n",
    "  - [4.3 What the spans look like](#agentops-spans)\n",
    "  - [4.4 Cost/latency insights & common checks](#agentops-tips)\n",
    "- [5. Patterns & Best Practices](#best)\n"
   ]
  },
  {
   "cell_type": "markdown",
   "metadata": {},
   "source": [
    "<a id=\"why\"></a>\n",
    "## 1. Why Observability for Agentic AI?\n",
    "\n",
    "Agentic apps are **stateful**, **tool-using**, and often **multi-step**. Observability lets you answer:\n",
    "\n",
    "- What did the **user** ask, and how did the **agent** decide what to do?\n",
    "\n",
    "- What **tools** were called, with what **arguments**, and what came back?\n",
    "\n",
    "- What did the **LLM** see (system prompts, history, functions) and return (text, function calls)?\n",
    "\n",
    "- Where did **latency** and **cost** accrue?\n",
    "\n",
    "- Why did a **branch**/loop/transfer occur (and did it match policy)?\n",
    "\n",
    "- What **state** or **artifacts** changed during the run?\n",
    "\n",
    "\n",
    "\n",
    "### Visual: high-level observability in agentic AI\n",
    "```mermaid\n",
    "flowchart LR\n",
    "  U[User] -->|message| R(Runner/UI)\n",
    "  R -->|records| H[Event History]\n",
    "  R -->|logs/traces| O[Observability Sink]\n",
    "  subgraph Agentic Flow\n",
    "    R --> A1[Agent / LLM]\n",
    "    A1 -->|tool call| T1[Tool A]\n",
    "    A1 -->|tool call| T2[Tool B]\n",
    "    A1 -->|writes| S[Session State]\n",
    "    T1 -->|artifacts| F[Artifact Store]\n",
    "    T2 -->|artifacts| F\n",
    "  end\n",
    "  O --> Dash[Dashboards/Replay]\n",
    "```\n"
   ]
  },
  {
   "cell_type": "markdown",
   "metadata": {},
   "source": [
    "<a id=\"signals\"></a>\n",
    "## 2. Core Signals & Telemetry in Agent Systems\n",
    "\n",
    "| Signal | What it shows | Why it matters |\n",
    "|---|---|---|\n",
    "| **Logs** | Textual diagnostics (who/when/what) | Quick debugging, grep‑ability |\n",
    "| **Traces/Spans** | Hierarchical timing of steps (agent → LLM → tool) | Find hotspots, follow causal chain |\n",
    "| **Events** | Immutable records of content + side effects | Auditability & replay |\n",
    "| **Metrics** | Counts, durations, costs | SLOs, alerting, capacity planning |\n",
    "| **Artifacts/State Deltas** | Files/blobs & key/value changes | Data lineage & correctness |\n"
   ]
  },
  {
   "cell_type": "markdown",
   "metadata": {},
   "source": [
    "<a id=\"adk-obs\"></a>\n",
    "## 3. ADK Observability: Logging & Tracing\n",
    "\n",
    "ADK purposefully **does not auto‑configure** logging; you control verbosity. Tracing spans can be exported to your preferred backend; for simple workflows, **logs + event history** are often enough.\n"
   ]
  },
  {
   "cell_type": "markdown",
   "metadata": {},
   "source": [
    "<a id=\"adk-logging\"></a>\n",
    "### 3.1 Logging (Python `logging`, CLI flags)\n",
    "\n",
    "Enable structured logs in your entrypoint:\n",
    "```python\n",
    "import logging\n",
    "\n",
    "logging.basicConfig(\n",
    "    level=logging.INFO,  # use DEBUG while troubleshooting\n",
    "    format=\"%(asctime)s - %(levelname)s - %(name)s - %(message)s\"\n",
    ")\n",
    "```\n",
    "When using ADK CLI you can override verbosity without touching code:\n",
    "```bash\n",
    "# Run the web UI with verbose logs\n",
    "adk web --log_level DEBUG path/to/your/agents_dir\n",
    "\n",
    "# Shorthand\n",
    "adk web -v path/to/your/agents_dir\n",
    "```\n",
    "**Tip:** Use `INFO` or `WARNING` in prod; `DEBUG` can include full LLM prompts.\n"
   ]
  },
  {
   "cell_type": "markdown",
   "metadata": {},
   "source": [
    "<a id=\"adk-events\"></a>\n",
    "### 3.2 Event stream mental model\n",
    "\n",
    "Every significant step yields an **Event** (user message, agent text, tool call/result, state/artifact update). A simple model:\n",
    "\n",
    "```mermaid\n",
    "sequenceDiagram\n",
    "  participant User\n",
    "  participant Runner\n",
    "  participant Agent\n",
    "  participant LLM\n",
    "  participant Tool\n",
    "\n",
    "  User->>Runner: new message\n",
    "  Runner->>Agent: invoke (InvocationContext)\n",
    "  Agent->>LLM: prompt (+ tools schema)\n",
    "  LLM-->>Agent: text / function_call\n",
    "  Agent->>Tool: execute(args)\n",
    "  Tool-->>Agent: result (dict/parts)\n",
    "  Agent-->>Runner: Event(s) with actions (state/artifacts)\n",
    "  Runner-->>User: final Event(s)\n",
    "```\n",
    "**Read events** to reconstruct what happened and **why**.\n"
   ]
  },
  {
   "cell_type": "markdown",
   "metadata": {},
   "source": [
    "<a id=\"agentops\"></a>\n",
    "## 4. AgentOps: Replays, Traces, & Metrics\n",
    "\n",
    "AgentOps adds **session replays**, **rich traces**, and **cost/latency** analytics with minimal code.\n"
   ]
  },
  {
   "cell_type": "markdown",
   "metadata": {},
   "source": [
    "<a id=\"agentops-why\"></a>\n",
    "### 4.1 What AgentOps adds on top of ADK\n",
    "- **Unified tracing & replay** across agent, LLM, tools\n",
    "\n",
    "- **Prompt & completion visibility** (tokens, finish reasons)\n",
    "\n",
    "- **Performance views** (latency buckets, slow steps)\n",
    "\n",
    "- **Minimal setup** (single `init`) and works alongside ADK runners\n"
   ]
  },
  {
   "cell_type": "markdown",
   "metadata": {},
   "source": [
    "<a id=\"agentops-min\"></a>\n",
    "### 4.2 Minimal integration\n",
    "\n",
    "> Put this near the top of your app (before you run the ADK `Runner`). Set the API key in your env.\n",
    "\n",
    "```python\n",
    "# pip install -U agentops\n",
    "import os\n",
    "import agentops\n",
    "\n",
    "agentops.init(\n",
    "    api_key=os.getenv(\"AGENTOPS_API_KEY\"),  # export AGENTOPS_API_KEY=...\n",
    "    trace_name=\"adk-demo-trace\"             # optional label shown in UI\n",
    ")\n",
    "# ... define/load your ADK root_agent and Runner as usual ...\n",
    "```\n",
    "Once initialized, AgentOps auto‑instruments ADK calls so you get **nested spans** and **session replays** in the dashboard.\n"
   ]
  },
  {
   "cell_type": "markdown",
   "metadata": {},
   "source": [
    "<a id=\"agentops-spans\"></a>\n",
    "### 4.3 What the spans look like\n",
    "\n",
    "```mermaid\n",
    "flowchart TD\n",
    "  A[AgentOps Session Trace] --> B[ADK Runner / Root Agent]\n",
    "  B --> C[Sub‑Agent / Workflow Step]\n",
    "  C --> D[LLM Call: gemini-2.0-flash]\n",
    "  C --> E[Tool Call: search_api]\n",
    "  C --> F[Tool Call: summarize_pdf]\n",
    "  D --> G{Tokens, Prompt, Latency}\n",
    "  E --> H{Args, Result, Duration}\n",
    "  F --> I{Args, Result, Duration}\n",
    "```\n",
    "You can expand each span to inspect **inputs/outputs**, **timings**, and **errors**.\n"
   ]
  },
  {
   "cell_type": "markdown",
   "metadata": {},
   "source": [
    "<a id=\"agentops-tips\"></a>\n",
    "### 4.4 Cost/latency insights & common checks\n",
    "- Check the **longest spans** first (often tools or large prompts)\n",
    "\n",
    "- Inspect **prompts** to ensure correct instruction/templating\n",
    "\n",
    "- Watch **function_call** frequency & fan‑out\n",
    "\n",
    "- Correlate **tool errors** with agent **fallbacks** or **retries**\n"
   ]
  },
  {
   "cell_type": "markdown",
   "metadata": {},
   "source": [
    "<a id=\"best\"></a>\n",
    "## 5. Patterns & Best Practices\n",
    "\n",
    "- **Name things well**: agent names, tool names, and state keys improve trace readability.\n",
    "\n",
    "- **Log at edges**: before/after tool calls; summarize inputs, not full blobs.\n",
    "\n",
    "- **Guard PII**: scrub secrets from logs; prefer secure stores for credentials.\n",
    "\n",
    "- **Use levels**: DEBUG for prompt inspection locally; INFO in prod.\n",
    "\n",
    "- **Sample** high‑volume traffic; keep detailed traces for error cases.\n",
    "\n",
    "- **Link runs** to user/session IDs to compare behavior over time.\n",
    "\n",
    "- **Automate alerts** on latency spikes, error rates, and cost thresholds.\n"
   ]
  }
 ],
 "metadata": {
  "kernelspec": {
   "display_name": "Python 3",
   "language": "python",
   "name": "python3"
  },
  "language_info": {
   "name": "python",
   "version": "3.x"
  },
  "title": "Observability in Agentic AI with ADK & AgentOps"
 },
 "nbformat": 4,
 "nbformat_minor": 5
}
