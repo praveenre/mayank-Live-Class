{
 "cells": [
  {
   "cell_type": "markdown",
   "metadata": {},
   "source": [
    "# Deploying ADK Agents to Cloud Run — End-to-End Handbook\n",
    "\n",
    "This notebook is a **complete, hands-on guide** for deploying agents built with the **Google Agent Development Kit (ADK)** to **Cloud Run**. It covers prerequisites, permissions, API enablement, two deployment paths, testing the API, logs & debugging, **common failure modes and fixes**, and **best practices for secrets**."
   ]
  },
  {
   "cell_type": "markdown",
   "metadata": {},
   "source": [
    "## Table of contents\n",
    "- 1. What you’ll build & how it runs\n",
    "- 2. Prerequisites\n",
    "- 3. Install & initialize gcloud CLI\n",
    "- 4. Project setup: billing, APIs, and IAM\n",
    "- 5. Agent layout ADK expects\n",
    "- 6. Path A — `adk deploy cloud_run` (recommended)\n",
    "- 7. Test the deployed API (UI + curl + SSE)\n",
    "- 8. Logs & debugging\n",
    "- 9. Path B — `gcloud run deploy` with your own Dockerfile\n",
    "- 10. Secrets best practice with Secret Manager\n",
    "- 11. Common errors and how to fix them\n",
    "- 12. Clean up & iterate\n",
    "- 13. My Handles"
   ]
  },
  {
   "cell_type": "markdown",
   "metadata": {},
   "source": [
    "## 1) What you’ll build & how it runs\n",
    "\n",
    "A minimal ADK agent (exporting `root_agent`) deployed to **Cloud Run** behind the **ADK API server**. You can call it via REST (`/list-apps`, session endpoints, `/run`, `/run_sse`) or the Dev UI.\n",
    "\n",
    "```mermaid\n",
    "flowchart LR\n",
    "    subgraph Local Dev\n",
    "        A[Agent code<br/>root_agent in agent.py] --> B[adk deploy cloud_run]\n",
    "    end\n",
    "\n",
    "    B --> C[Container build<br/>Cloud Build + Artifact Registry]\n",
    "    C --> D[Cloud Run Service]\n",
    "    D <--> E[ADK API Server<br/>/list-apps, /run, /run_sse]\n",
    "    E --> F[Your Agent]\n",
    "    F --> G[LLM & Tools e.g., MCP]\n",
    "    \n",
    "    style A fill:#e1f5fe\n",
    "    style B fill:#e1f5fe\n",
    "    style C fill:#f3e5f5\n",
    "    style D fill:#e8f5e8\n",
    "    style E fill:#fff3e0\n",
    "    style F fill:#e8f5e8\n",
    "    style G fill:#ffebee\n",
    "```"
   ]
  },
  {
   "cell_type": "markdown",
   "metadata": {},
   "source": [
    "## 2) Prerequisites\n",
    "\n",
    "- A Google Cloud project with **billing enabled**.\n",
    "- One of the two **auth modes**:\n",
    "  - **Vertex AI path** (recommended on GCP): `GOOGLE_CLOUD_PROJECT`, `GOOGLE_CLOUD_LOCATION`, `GOOGLE_GENAI_USE_VERTEXAI=True`\n",
    "  - **AI Studio key path**: `GOOGLE_CLOUD_PROJECT`, `GOOGLE_CLOUD_LOCATION`, `GOOGLE_GENAI_USE_VERTEXAI=False`, `GOOGLE_API_KEY`\n",
    "- Python 3.9+ and `pip`.\n",
    "- **ADK**: `pip install google-adk`\n",
    "- (Optional) `jq` for pretty-printing JSON in shell output."
   ]
  },
  {
   "cell_type": "markdown",
   "metadata": {},
   "source": [
    "## 3) Install & initialize gcloud CLI\n",
    "\n",
    "**macOS (Homebrew)**\n",
    "```bash\n",
    "brew install google-cloud-sdk\n",
    "```\n",
    "\n",
    "**Debian/Ubuntu**\n",
    "```bash\n",
    "sudo apt-get update && sudo apt-get install -y apt-transport-https ca-certificates gnupg\n",
    "echo \"deb [signed-by=/usr/share/keyrings/cloud.google.gpg] https://packages.cloud.google.com/apt cloud-sdk main\" | sudo tee /etc/apt/sources.list.d/google-cloud-sdk.list\n",
    "curl -fsSL https://packages.cloud.google.com/apt/doc/apt-key.gpg | sudo gpg --dearmor -o /usr/share/keyrings/google-cloud.gpg\n",
    "sudo apt-get update && sudo apt-get install -y google-cloud-cli\n",
    "```\n",
    "\n",
    "**Windows**\n",
    "Download installer from Google Cloud or `choco install gcloudsdk`.\n",
    "\n",
    "**Initialize & auth**\n",
    "```bash\n",
    "gcloud auth login\n",
    "gcloud config set project <YOUR_PROJECT_ID>\n",
    "gcloud config get-value account\n",
    "gcloud config get-value project\n",
    "```"
   ]
  },
  {
   "cell_type": "markdown",
   "metadata": {},
   "source": [
    "## 4) Project setup: billing, APIs, and IAM\n",
    "\n",
    "### 4.1 Billing\n",
    "Ensure billing is linked to the project (Console → Billing).\n",
    "\n",
    "### 4.2 Enable required APIs\n",
    "```bash\n",
    "PROJECT=<YOUR_PROJECT_ID>\n",
    "gcloud services enable   run.googleapis.com   artifactregistry.googleapis.com   cloudbuild.googleapis.com   logging.googleapis.com   secretmanager.googleapis.com   --project $PROJECT\n",
    "\n",
    "gcloud services list --enabled --project $PROJECT | egrep 'run|artifact|cloudbuild|logging|secret'\n",
    "```\n",
    "\n",
    "### 4.3 IAM must-haves (for the **user** doing the deploy)\n",
    "If you are **Project Owner**, you’re covered. Otherwise, grant:\n",
    "- `roles/run.admin` (or `run.developer`)\n",
    "- `roles/iam.serviceAccountUser`\n",
    "- `roles/artifactregistry.writer` (or `.admin`)\n",
    "- `roles/cloudbuild.builds.editor`\n",
    "- `roles/serviceusage.serviceUsageConsumer`\n",
    "\n",
    "Check your roles:\n",
    "```bash\n",
    "gcloud projects get-iam-policy $PROJECT   --flatten=\"bindings[].members\"   --filter=\"bindings.members:user:$(gcloud config get-value account)\"   --format=\"table(bindings.role)\"\n",
    "```"
   ]
  },
  {
   "cell_type": "markdown",
   "metadata": {},
   "source": [
    "## 5) Agent layout ADK expects\n",
    "\n",
    "```\n",
    "your-agent/\n",
    "└─ capital_agent/\n",
    "   ├─ __init__.py        # contains: from . import agent\n",
    "   ├─ agent.py           # exports: root_agent\n",
    "   └─ requirements.txt   # agent-specific extras (ADK server is bundled by deployer)\n",
    "```\n",
    "\n",
    "**`agent.py` example**\n",
    "```python\n",
    "from google.adk.agents.llm_agent import Agent\n",
    "\n",
    "root_agent = Agent(\n",
    "    model=\"gemini-2.0-flash\",\n",
    "    name=\"capital_agent\",\n",
    "    instruction=(\n",
    "        \"Answer concisely. If asked for a country's capital, reply with only the capital and a one-line confirmation.\"\n",
    "    ),\n",
    ")\n",
    "```\n",
    "\n",
    "> Cloud Run **service names must be dash-case** (e.g., `capital-service`)."
   ]
  },
  {
   "cell_type": "markdown",
   "metadata": {},
   "source": [
    "## 6) Path A — `adk deploy cloud_run` (recommended)\n",
    "\n",
    "**Choose ONE auth path**\n",
    "\n",
    "**Vertex AI**\n",
    "```bash\n",
    "export GOOGLE_CLOUD_PROJECT=\"<your-project-id>\"\n",
    "export GOOGLE_CLOUD_LOCATION=\"us-central1\"\n",
    "export GOOGLE_GENAI_USE_VERTEXAI=True\n",
    "```\n",
    "\n",
    "**AI Studio key**\n",
    "```bash\n",
    "export GOOGLE_CLOUD_PROJECT=\"<your-project-id>\"\n",
    "export GOOGLE_CLOUD_LOCATION=\"us-central1\"\n",
    "export GOOGLE_GENAI_USE_VERTEXAI=False\n",
    "export GOOGLE_API_KEY=\"<your-ai-studio-api-key>\"\n",
    "```\n",
    "\n",
    "**Optional names**\n",
    "```bash\n",
    "export SERVICE_NAME=\"capital-service\"\n",
    "export APP_NAME=\"capital_agent\"\n",
    "export AGENT_PATH=\"./capital_agent\"\n",
    "```\n",
    "\n",
    "**Deploy**\n",
    "```bash\n",
    "adk deploy cloud_run   --project=$GOOGLE_CLOUD_PROJECT   --region=$GOOGLE_CLOUD_LOCATION   --service_name=$SERVICE_NAME   --app_name=$APP_NAME   --with_ui   $AGENT_PATH\n",
    "```"
   ]
  },
  {
   "cell_type": "markdown",
   "metadata": {},
   "source": [
    "## 8) Logs & debugging\n",
    "\n",
    "Cloud Console → **Cloud Run** → your service → **Logs**. You’ll see ADK runtime logs (model calls, tool calls, errors).\n",
    "\n",
    "```mermaid\n",
    "flowchart LR\n",
    "  A[Client] -->|/run| B[Cloud Run Service]\n",
    "  B --> C[ADK API Server]\n",
    "  C --> D[Agent Execution]\n",
    "  D --> E[Logs: LLM calls, tools, state deltas]\n",
    "```"
   ]
  },
  {
   "cell_type": "markdown",
   "metadata": {},
   "source": [
    "## 9) Path B — `gcloud run deploy` with your own Dockerfile\n",
    "\n",
    "Use when you need custom system packages or controlled runtime.\n",
    "\n",
    "**Dockerfile sketch**\n",
    "```dockerfile\n",
    "FROM python:3.11-slim\n",
    "RUN apt-get update && apt-get install -y --no-install-recommends git curl && rm -rf /var/lib/apt/lists/*\n",
    "WORKDIR /app\n",
    "COPY requirements.txt /app/requirements.txt\n",
    "RUN pip install --no-cache-dir -r /app/requirements.txt\n",
    "COPY agents/ /app/agents/\n",
    "ENV PORT=8000\n",
    "EXPOSE 8000\n",
    "```\n",
    "Deploy:\n",
    "```bash\n",
    "gcloud run deploy <service-name> --source .   --project $GOOGLE_CLOUD_PROJECT --region $GOOGLE_CLOUD_LOCATION   --allow-unauthenticated\n",
    "```"
   ]
  },
  {
   "cell_type": "markdown",
   "metadata": {},
   "source": [
    "## 11) Common errors and how to fix them\n",
    "\n",
    "| Error/Symptom | Cause | Fix |\n",
    "|---|---|---|\n",
    "| `PERMISSION_DENIED: permission to enable service [run.googleapis.com]` | Missing **Service Usage** perms | Ask owner for `roles/serviceusage.serviceUsageAdmin` (enable) and `roles/serviceusage.serviceUsageConsumer` (use) |\n",
    "| `Cannot access API run.googleapis.com` after enabling | You don’t have **Run** or **Service Usage** roles | Grant `roles/run.admin`/`run.developer` and `roles/serviceusage.serviceUsageConsumer` |\n",
    "| `No root_agent found` | Wrong package layout | Ensure `agent.py` exports `root_agent` and `__init__.py` has `from . import agent` |\n",
    "| Service name rejected | Underscores in name | Use dash-case (`capital-service`) |\n",
    "| 401 calling API | Private service | Use identity token: `gcloud auth print-identity-token` |\n",
    "| 500 on `/run` | Env combo mismatch or missing keys | Check `GOOGLE_GENAI_USE_VERTEXAI` True/False pairing; set `GOOGLE_API_KEY` if needed; check logs |\n",
    "| MCP fails in container | Missing tools (`uv`, `git`) | Use Path B with a Dockerfile installing required packages |"
   ]
  },
  {
   "cell_type": "markdown",
   "metadata": {},
   "source": [
    "## 13) My Handles\n",
    "\n",
    "Linkedin :- https://www.linkedin.com/in/mayank953/  \n",
    "Youtube :- https://www.youtube.com/@tech.mayankagg  \n",
    "Instagram :- https://www.instagram.com/tech.mayankagg/  \n",
    "Substack :- https://aiwithmayank.substack.com  \n",
    "Medium :- https://medium.com/@tech.mayankagg  \n",
    "Udemy :- https://www.udemy.com/user/mayank-aggarwal-197/  \n",
    "Github :- https://github.com/mayank953/"
   ]
  }
 ],
 "metadata": {
  "kernelspec": {
   "display_name": "Python 3",
   "language": "python",
   "name": "python3"
  }
 },
 "nbformat": 4,
 "nbformat_minor": 5
}
