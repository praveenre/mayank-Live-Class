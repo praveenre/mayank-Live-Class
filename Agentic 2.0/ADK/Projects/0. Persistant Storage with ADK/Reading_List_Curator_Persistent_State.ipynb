{
 "cells": [
  {
   "cell_type": "markdown",
   "metadata": {},
   "source": [
    "# Reading List Curator — Persistent Session & State in Google ADK\n",
    "\n",
    "A fully working, classroom-friendly project that demonstrates **persistent memory** in the Google **Agent Development Kit (ADK)**. The use-case is a **Reading List Curator**: the agent remembers your name and a structured list of articles/books across runs using a SQL database (SQLite by default).\n"
   ]
  },
  {
   "cell_type": "markdown",
   "metadata": {},
   "source": [
    "## TL;DR\n",
    "\n",
    "- **What this teaches:** Switching from volatile memory to **database-backed sessions** with `DatabaseSessionService`, and using **tool functions** to read/write **session state** that persists across app restarts.\n",
    "- **What you get:** A runnable terminal app and an ADK-compatible agent (`root_agent`) that you can also serve via `adk web`.\n",
    "- **Domain:** A **Reading List Curator** : CRUD on entries `{title, url, tags[], status, notes}` with clean, descriptive tool outputs."
   ]
  },
  {
   "cell_type": "markdown",
   "metadata": {},
   "source": [
    "## Quick demo (what you’ll see)\n",
    "\n",
    "1. Run the app.  \n",
    "2. Tell it your name.  \n",
    "3. Add a few items to your reading list.  \n",
    "4. Quit and run again — your list is **still there**."
   ]
  },
  {
   "cell_type": "markdown",
   "metadata": {},
   "source": [
    "## Project Structure\n",
    "\n",
    "```\n",
    ".\n",
    "├─ main.py                    # App entrypoint: DB session setup + find-or-create session + terminal loop\n",
    "├─ utils.py                   # Runner helper + pretty state printer + event logger\n",
    "├─ memory_agent/\n",
    "│  ├─ __init__.py             # Package marker\n",
    "│  └─ agent.py                # Agent definition + tools (CRUD for reading list) + root_agent export\n",
    "└─ (auto-created) reading_list.db  # SQLite database file (if ADK_DB_URL not provided)\n",
    "```"
   ]
  },
  {
   "cell_type": "markdown",
   "metadata": {},
   "source": [
    "### File-by-file (what each does)\n",
    "\n",
    "| Path | What it contains | Why it matters |\n",
    "|---|---|---|\n",
    "| `main.py` | Initializes `DatabaseSessionService`, **lists or creates** a session for `(APP_NAME, USER_ID)`, constructs a `Runner`, and starts a simple terminal loop. | Shows the **session lifecycle** and how to resume state for returning users. |\n",
    "| `utils.py` | `call_agent_async(...)` to stream events from the agent, `display_state(...)` to show BEFORE/AFTER snapshots, and a readable event logger. | Makes it obvious **when** state is mutated and **what** changed. |\n",
    "| `memory_agent/agent.py` | The **agent** plus six **tools**: `set_user_name`, `add_item`, `list_items`, `update_item`, `annotate_item`, `remove_item`. Exports `root_agent` for ADK web discovery. | Demonstrates **tool-driven state mutation** with **descriptive JSON outputs** (no vague `\"result\"` key). |\n",
    "| `memory_agent/__init__.py` | Empty package marker. | Allows `from memory_agent.agent import reading_agent`. |\n",
    "| `reading_list.db` | SQLite DB (created on first run unless `ADK_DB_URL` overrides). | Proof of **durable state** across runs. |"
   ]
  },
  {
   "cell_type": "markdown",
   "metadata": {},
   "source": [
    "## How the system starts and runs\n",
    "\n",
    "### Big-picture architecture\n",
    "\n",
    "```mermaid\n",
    "flowchart LR\n",
    "    A[User launches app] --> B[main.py]\n",
    "    B --> C[DatabaseSessionService sqlite:///...]\n",
    "    C --> D{Existing session for<br/>APP_NAME, USER_ID?}\n",
    "    D -->|yes| E[Reuse session_id]\n",
    "    D -->|no| F[Create session with INITIAL_STATE]\n",
    "    E --> G[Runner agent=reading_agent]\n",
    "    F --> G\n",
    "    G --> H[Terminal loop: read user input]\n",
    "    H --> I[runner.run_async ..., new_message]\n",
    "    I --> J{Agent calls a tool?}\n",
    "    J -->|yes| K[ToolContext.state read/modify/write]\n",
    "    J -->|no| L[LLM response only]\n",
    "    K --> M[State persisted by session service]\n",
    "    L --> M\n",
    "    M --> N[Final response rendered + state AFTER printed]\n",
    "    N --> H\n",
    "    \n",
    "    style A fill:#e1f5fe\n",
    "    style B fill:#f3e5f5\n",
    "    style C fill:#e8f5e8\n",
    "    style D fill:#fff3e0\n",
    "    style E fill:#e3f2fd\n",
    "    style F fill:#e3f2fd\n",
    "    style G fill:#f8e8f8\n",
    "    style H fill:#e8f8e8\n",
    "    style I fill:#fff8e8\n",
    "    style J fill:#fff3e0\n",
    "    style K fill:#ffebee\n",
    "    style L fill:#e8f5e8\n",
    "    style M fill:#f0f4ff\n",
    "    style N fill:#e8f5e8\n",
    "```\n",
    "**Key lesson:** The **persistence boundary** is the session service. If your tools write to `tool_context.state[...]`, those changes are **automatically persisted** by the configured `SessionService` (database-backed here)."
   ]
  },
  {
   "cell_type": "markdown",
   "metadata": {},
   "source": [
    "## State model (what we store)\n",
    "\n",
    "The session `state` is just a JSON-serializable dict. We use:"
   ]
  },
  {
   "cell_type": "code",
   "execution_count": null,
   "metadata": {},
   "outputs": [],
   "source": [
    "# Example of the state shape (for illustration)\n",
    "state = {\n",
    "    \"user_name\": \"\",\n",
    "    \"reading_list\": [\n",
    "        {\n",
    "            \"title\": \"Clean Code\",\n",
    "            \"url\": \"https://example.com\",\n",
    "            \"tags\": [\"software\", \"craft\"],\n",
    "            \"status\": \"queued\",        # queued | reading | done\n",
    "            \"notes\": \"Recommended by Alice\"\n",
    "        }\n",
    "    ]\n",
    "}\n",
    "state"
   ]
  },
  {
   "cell_type": "markdown",
   "metadata": {},
   "source": [
    "### Fields at a glance\n",
    "\n",
    "| Key | Type | Description |\n",
    "|---|---|---|\n",
    "| `user_name` | `str` | Optional display name for more personal responses. |\n",
    "| `reading_list` | `List[dict]` | Each item has `{title, url, tags[], status, notes}`. |\n",
    "| `title` | `str` | Required; becomes `\"(untitled)\"` if blank. |\n",
    "| `url` | `str` | Optional; cleaned to an empty string if not provided. |\n",
    "| `tags` | `List[str]` | Optional; normalized to a clean list of trimmed strings. |\n",
    "| `status` | `str` | `queued` (default), `reading`, or `done`. |\n",
    "| `notes` | `str` | Optional free text. |"
   ]
  },
  {
   "cell_type": "markdown",
   "metadata": {},
   "source": [
    "## The agent and its tools\n",
    "\n",
    "The agent (`reading_agent`) is a standard ADK agent with **clear instructions** and **six small tools**. It also exports `root_agent` so `adk web -v .` can auto-discover it.\n",
    "\n",
    "```mermaid\n",
    "flowchart TD\n",
    "    subgraph Reading List Curator Agent\n",
    "    direction TB\n",
    "    A[LLM Instruction<br/>- greet, infer intent<br/>- choose tools<br/>- keep output concise]\n",
    "    A --> T1[set_user_name]\n",
    "    A --> T2[add_item]\n",
    "    A --> T3[list_items]\n",
    "    A --> T4[update_item]\n",
    "    A --> T5[annotate_item]\n",
    "    A --> T6[remove_item]\n",
    "    end\n",
    "```"
   ]
  },
  {
   "cell_type": "markdown",
   "metadata": {},
   "source": [
    "### Tool catalog (inputs → outputs)\n",
    "\n",
    "| Tool | Purpose | Required args | Optional args | Output keys (always descriptive) |\n",
    "|---|---|---|---|---|\n",
    "| `set_user_name` | Save a display name | `name:str` | – | `action, old_name, new_name, message` |\n",
    "| `add_item` | Append a new reading entry | `title:str` | `url:str, tags:list[str], status:str, notes:str` | `action, item, index, message` |\n",
    "| `list_items` | Return items, optionally filtered | – | `filter_status:str, filter_tag:str` | `action, count, items[], filters, message` |\n",
    "| `update_item` | Edit fields by 1-based index | `index:int` | `title, url, status, notes, tags` | `action, index, before, after, message` |\n",
    "| `annotate_item` | Replace notes for an item | `index:int, notes:str` | – | `action, index, old_notes, new_notes, message` |\n",
    "| `remove_item` | Delete an item by index | `index:int` | – | `action, index, removed, message` |"
   ]
  },
  {
   "cell_type": "markdown",
   "metadata": {},
   "source": [
    "## What actually happens on each message\n",
    "\n",
    "### Event sequence (one turn)\n",
    "\n",
    "```mermaid\n",
    "sequenceDiagram\n",
    "  participant U as User\n",
    "  participant R as Runner\n",
    "  participant A as Agent\n",
    "  participant DB as DatabaseSessionService\n",
    "\n",
    "  U->>R: BEFORE state snapshot (via utils.display_state) + \"Add 'Clean Code' tagged software\"\n",
    "  R->>A: new_message\n",
    "  A->>A: Parse intent & arguments\n",
    "  A->>A: Choose tool: add_item\n",
    "  A->>DB: Read current session.state\n",
    "  A->>A: tool_context.state[\"reading_list\"].append({...})\n",
    "  A->>DB: Persist updated state (within session service)\n",
    "  A-->>R: Final agent response (summarized)\n",
    "  R-->>U: Text + AFTER state snapshot (via utils.display_state)\n",
    "```"
   ]
  },
  {
   "cell_type": "markdown",
   "metadata": {},
   "source": [
    "### Tool short-circuiting (why state is consistent)\n",
    "\n",
    "```mermaid\n",
    "flowchart LR\n",
    "    X[before_tool callback<br/>implicit in ADK] -->|state loaded| Y[Run tool]\n",
    "    Y -->|writes tool_context.state| Z[after_tool callback]\n",
    "    Z -->|state delta recorded| DB[(SessionService)]\n",
    "    DB -->|persist| DB\n",
    "    \n",
    "    style X fill:#e1f5fe\n",
    "    style Z fill:#e1f5fe\n",
    "    style DB fill:#e8f5e8\n",
    "```\n",
    "*(We’re not implementing custom callbacks here; ADK’s built-in flow records the state delta which the session service persists.)*"
   ]
  },
  {
   "cell_type": "markdown",
   "metadata": {},
   "source": [
    "## Setup & Running\n",
    "\n",
    "### Prerequisites\n",
    "- **Python 3.10+**\n",
    "- A Google API key with access to Gemini models (used by default model `gemini-2.0-flash`)\n",
    "- `pip install` the ADK and dependencies (versions will depend on your environment)"
   ]
  },
  {
   "cell_type": "markdown",
   "metadata": {},
   "source": [
    "### 1) Install dependencies\n",
    "```bash\n",
    "pip install google-adk google-genai python-dotenv\n",
    "```"
   ]
  },
  {
   "cell_type": "markdown",
   "metadata": {},
   "source": [
    "### 2) Configure environment\n",
    "Create a `.env` in the project root (same folder as `main.py`):\n",
    "```dotenv\n",
    "GOOGLE_API_KEY=your_api_key_here\n",
    "ADK_DB_URL=sqlite:///./reading_list.db\n",
    "ADK_APP_NAME=Reading List Curator\n",
    "ADK_USER_ID=demo_user\n",
    "# Optional:\n",
    "# AGENTOPS_API_KEY=your_agentops_key\n",
    "```"
   ]
  },
  {
   "cell_type": "markdown",
   "metadata": {},
   "source": [
    "### 3) Run the terminal app\n",
    "```bash\n",
    "python main.py\n",
    "```\n",
    "Try a quick script of prompts:\n",
    "```\n",
    "set my name to Mayank\n",
    "add \"Clean Code\" with tag software\n",
    "add \"Attention Is All You Need\" url https://arxiv.org/abs/1706.03762 tag nlp\n",
    "list queued\n",
    "update item 2 status reading\n",
    "annotate item 2: key transformer paper\n",
    "remove item 1\n",
    "exit\n",
    "```"
   ]
  },
  {
   "cell_type": "markdown",
   "metadata": {},
   "source": [
    "### 4) (Optional) Run with ADK Web UI\n",
    "Because `memory_agent/agent.py` exports `root_agent`, you can spin up the ADK web runner:\n",
    "```bash\n",
    "adk web -v .\n",
    "```\n",
    "Then interact with the agent in your browser. The same persisted session is used (same `(APP_NAME, USER_ID)` pair)."
   ]
  },
  {
   "cell_type": "markdown",
   "metadata": {},
   "source": [
    "## Code tour (key excerpts)\n",
    "### `main.py` — find or create a session"
   ]
  },
  {
   "cell_type": "code",
   "execution_count": null,
   "metadata": {},
   "outputs": [],
   "source": [
    "DB_URL = os.getenv(\"ADK_DB_URL\", \"sqlite:///./reading_list.db\")\n",
    "session_service = DatabaseSessionService(db_url=DB_URL)\n",
    "\n",
    "INITIAL_STATE = {\"user_name\": \"\", \"reading_list\": []}\n",
    "APP_NAME = os.getenv(\"ADK_APP_NAME\", \"Reading List Curator\")\n",
    "USER_ID = os.getenv(\"ADK_USER_ID\", \"demo_user\")\n",
    "\n",
    "existing = session_service.list_sessions(app_name=APP_NAME, user_id=USER_ID)\n",
    "if existing and existing.sessions:\n",
    "    SESSION_ID = existing.sessions[0].id\n",
    "else:\n",
    "    SESSION_ID = session_service.create_session(\n",
    "        app_name=APP_NAME, user_id=USER_ID, state=INITIAL_STATE\n",
    "    ).id\n",
    "\n",
    "runner = Runner(agent=reading_agent, app_name=APP_NAME, session_service=session_service)"
   ]
  },
  {
   "cell_type": "markdown",
   "metadata": {},
   "source": [
    "### `agent.py` — example tool (add item)"
   ]
  },
  {
   "cell_type": "code",
   "execution_count": null,
   "metadata": {},
   "outputs": [],
   "source": [
    "def add_item(title: str, url: str = \"\", tags: Optional[List[str]] = None,\n",
    "             status: str = \"queued\", notes: str = \"\", tool_context: ToolContext = None) -> dict:\n",
    "    _ensure_state(tool_context)\n",
    "    item = {\n",
    "        \"title\": title.strip() if title else \"(untitled)\",\n",
    "        \"url\": (url or \"\").strip(),\n",
    "        \"tags\": _normalize_tags(tags),\n",
    "        \"status\": status if status in {\"queued\",\"reading\",\"done\"} else \"queued\",\n",
    "        \"notes\": (notes or \"\").strip(),\n",
    "    }\n",
    "    rl = tool_context.state[\"reading_list\"]\n",
    "    rl.append(item)\n",
    "    tool_context.state[\"reading_list\"] = rl   # write-through\n",
    "\n",
    "    return {\"action\": \"add_item\", \"item\": item, \"index\": len(rl),\n",
    "            \"message\": f\"Added '{item['title']}' to your reading list.\"}"
   ]
  },
  {
   "cell_type": "markdown",
   "metadata": {},
   "source": [
    "### `utils.py` — BEFORE vs AFTER"
   ]
  },
  {
   "cell_type": "code",
   "execution_count": null,
   "metadata": {},
   "outputs": [],
   "source": [
    "display_state(runner.session_service, runner.app_name, user_id, session_id, \"State BEFORE\")\n",
    "async for event in runner.run_async(user_id=user_id, session_id=session_id, new_message=content):\n",
    "    await process_agent_response(event)\n",
    "display_state(runner.session_service, runner.app_name, user_id, session_id, \"State AFTER\")"
   ]
  },
  {
   "cell_type": "markdown",
   "metadata": {},
   "source": [
    "## Troubleshooting\n",
    "\n",
    "| Symptom | Likely cause | Fix |\n",
    "|---|---|---|\n",
    "| `GOOGLE_API_KEY` error | Missing key | Put it in `.env` or your shell environment. |\n",
    "| DB file isn’t created | Invalid `ADK_DB_URL` | Use a valid SQLAlchemy URL, e.g. `sqlite:///./reading_list.db`. |\n",
    "| State never changes | Tool didn’t run / params misparsed | Check terminal logs; try explicit phrasing like `add \"Book Title\" tag ml`. |\n",
    "| Index errors updating/removing | Using 0-based or invalid index | Tools expect **1-based** indices; list items first to confirm positions. |\n",
    "| Nothing persists between runs | New `(APP_NAME, USER_ID)` each time | Keep both **constant** unless you want a separate session. |\n",
    "| AgentOps not showing traces | No API key set | Add `AGENTOPS_API_KEY` to `.env` (agent already guards for missing key). |"
   ]
  },
  {
   "cell_type": "markdown",
   "metadata": {},
   "source": [
    "## Extending this project\n",
    "- **Swap the model:** Change `model=\"gemini-2.0-flash\"` to another. Keep tools identical.\n",
    "- **Add search:** Introduce a `search_items(query)` tool to filter by title/notes.\n",
    "- **Add MCP:** Wrap a remote search (e.g., Tavily MCP) and a tool to “enrich” entries with metadata before adding them.\n",
    "- **Change domain, keep flow:** Workout Logger, Habit Tracker, Bug Notes — reuse the same session logic and CRUD shape."
   ]
  },
  {
   "cell_type": "markdown",
   "metadata": {},
   "source": [
    "## Appendix: Lifecycle diagrams\n",
    "\n",
    "### Session discovery / creation\n",
    "```mermaid\n",
    "flowchart LR\n",
    "    subgraph Boot\n",
    "    A[Load .env] --> B[Init DatabaseSessionService]\n",
    "    B --> C{list_sessions APP_NAME, USER_ID}\n",
    "    C -->|found| D[Reuse latest session_id]\n",
    "    C -->|none| E[create_session state=INITIAL_STATE]\n",
    "    D --> F[Runner...]\n",
    "    E --> F\n",
    "    end\n",
    "    \n",
    "    style C fill:#fff3e0\n",
    "    style D fill:#e8f5e8\n",
    "    style E fill:#e8f5e8"
   ]
  },
  {
   "cell_type": "markdown",
   "id": "fa562c8d",
   "metadata": {},
   "source": [
    "```mermaid\n",
    "flowchart TD\n",
    "    U[User text] --> P[Agent parses intent]\n",
    "    P --> Q{Needs a tool?}\n",
    "    Q -->|yes| T[Call tool with ToolContext]\n",
    "    T --> S[tool_context.state... = new_value]\n",
    "    S --> W[ADK records state delta]\n",
    "    W --> DB[(DatabaseSessionService)]\n",
    "    Q -->|no| R[LLM-only response]\n",
    "    DB --> OUT[Final Response]\n",
    "    R --> OUT\n",
    "    \n",
    "    style Q fill:#fff3e0\n",
    "    style T fill:#e1f5fe\n",
    "    style S fill:#e1f5fe\n",
    "    style W fill:#e1f5fe\n",
    "    style DB fill:#e8f5e8\n",
    "    style OUT fill:#e8f5e8\n",
    "```"
   ]
  },
  {
   "cell_type": "markdown",
   "metadata": {},
   "source": [
    "## My Handles\n",
    "\n",
    "Linkedin :- https://www.linkedin.com/in/mayank953/  \n",
    "Youtube :- https://www.youtube.com/@tech.mayankagg  \n",
    "Instagram :- https://www.instagram.com/tech.mayankagg/  \n",
    "Substack :- https://aiwithmayank.substack.com  \n",
    "Medium :- https://medium.com/@tech.mayankagg  \n",
    "Udemy :- https://www.udemy.com/user/mayank-aggarwal-197/  \n",
    "Github :- https://github.com/mayank953/"
   ]
  }
 ],
 "metadata": {
  "kernelspec": {
   "display_name": "Python 3",
   "language": "python",
   "name": "python3"
  },
  "language_info": {
   "name": "python",
   "version": "3.x"
  }
 },
 "nbformat": 4,
 "nbformat_minor": 5
}
